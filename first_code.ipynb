{
 "cells": [
  {
   "cell_type": "code",
   "execution_count": 12,
   "metadata": {},
   "outputs": [],
   "source": [
    "from tkinter import *\n",
    "from PIL import ImageTk, Image\n"
   ]
  },
  {
   "cell_type": "code",
   "execution_count": 13,
   "metadata": {},
   "outputs": [
    {
     "data": {
      "text/plain": [
       "1"
      ]
     },
     "execution_count": 13,
     "metadata": {},
     "output_type": "execute_result"
    }
   ],
   "source": [
    "root = Tk()\n",
    "\n",
    "\n",
    "def get_coordinates_on_click(event):\n",
    "    x, y = event.x, event.y\n",
    "    print('{}, {}'.format(x, y))\n",
    "\n",
    "canvas = Canvas(root, width=600, height=600)\n",
    "canvas.pack()\n",
    "img = ImageTk.PhotoImage(Image.open(\"images/dresden.jpg\"))\n",
    "canvas.create_image(5, 5, anchor=NW, image=img)\n",
    "\n",
    "\n",
    "\n",
    "\n"
   ]
  },
  {
   "cell_type": "code",
   "execution_count": 14,
   "metadata": {},
   "outputs": [
    {
     "name": "stdout",
     "output_type": "stream",
     "text": [
      "227, 290\n",
      "170, 329\n",
      "183, 278\n",
      "181, 313\n",
      "185, 232\n",
      "185, 232\n",
      "185, 232\n"
     ]
    }
   ],
   "source": [
    "root.bind('<Button-1>', get_coordinates_on_click)\n",
    "root.update()\n",
    "root.mainloop()"
   ]
  },
  {
   "cell_type": "code",
   "execution_count": null,
   "metadata": {},
   "outputs": [],
   "source": []
  },
  {
   "cell_type": "code",
   "execution_count": null,
   "metadata": {},
   "outputs": [],
   "source": []
  },
  {
   "cell_type": "code",
   "execution_count": null,
   "metadata": {},
   "outputs": [],
   "source": []
  }
 ],
 "metadata": {
  "kernelspec": {
   "display_name": "Python 3.10.4 ('.venv': pipenv)",
   "language": "python",
   "name": "python3"
  },
  "language_info": {
   "codemirror_mode": {
    "name": "ipython",
    "version": 3
   },
   "file_extension": ".py",
   "mimetype": "text/x-python",
   "name": "python",
   "nbconvert_exporter": "python",
   "pygments_lexer": "ipython3",
   "version": "3.10.4"
  },
  "orig_nbformat": 4,
  "vscode": {
   "interpreter": {
    "hash": "a74fd8dae477d476244f22e170194bc5181b8ef0c678d7d67c83ae0a5a47eae8"
   }
  }
 },
 "nbformat": 4,
 "nbformat_minor": 2
}
