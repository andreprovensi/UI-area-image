{
 "cells": [
  {
   "cell_type": "code",
   "execution_count": 3,
   "metadata": {},
   "outputs": [],
   "source": [
    "from tkinter import *\n",
    "from tkinter import ttk\n",
    "from PIL import ImageTk, Image, ImageOps\n"
   ]
  },
  {
   "cell_type": "code",
   "execution_count": 4,
   "metadata": {},
   "outputs": [
    {
     "name": "stderr",
     "output_type": "stream",
     "text": [
      "C:\\Users\\andreprovensi\\AppData\\Local\\Temp\\ipykernel_14540\\3927471799.py:11: DeprecationWarning: ANTIALIAS is deprecated and will be removed in Pillow 10 (2023-07-01). Use Resampling.LANCZOS instead.\n",
      "  resized_image= picture.resize((int(picture_w/4),int(picture_h/4)), Image.ANTIALIAS)\n"
     ]
    }
   ],
   "source": [
    "root = Tk()\n",
    "\n",
    "canvas = Canvas(root, width=600, height=600)\n",
    "\n",
    "canvas.pack()\n",
    "\n",
    "picture = Image.open(\"images/lesao1.jpeg\")\n",
    "\n",
    "picture_w, picture_h = picture.size\n",
    "\n",
    "resized_image= picture.resize((int(picture_w/4),int(picture_h/4)), Image.ANTIALIAS)\n",
    "\n",
    "new_image= ImageTk.PhotoImage(resized_image)\n",
    "\n",
    "picture_RGB = picture.convert('RGB')\n",
    "\n",
    "resized_image_RGB = resized_image.convert('RGB')\n",
    "\n",
    "picture_Grey = ImageOps.grayscale(picture)\n",
    "\n"
   ]
  },
  {
   "cell_type": "code",
   "execution_count": 8,
   "metadata": {},
   "outputs": [
    {
     "data": {
      "text/plain": [
       "(230, 211, 204)"
      ]
     },
     "execution_count": 8,
     "metadata": {},
     "output_type": "execute_result"
    }
   ],
   "source": [
    "resized_image_RGB.getpixel((20,20))"
   ]
  },
  {
   "cell_type": "code",
   "execution_count": 9,
   "metadata": {},
   "outputs": [
    {
     "data": {
      "text/plain": [
       "(233, 216, 208)"
      ]
     },
     "execution_count": 9,
     "metadata": {},
     "output_type": "execute_result"
    }
   ],
   "source": [
    "picture_RGB.getpixel((20,20))"
   ]
  },
  {
   "cell_type": "code",
   "execution_count": 13,
   "metadata": {},
   "outputs": [],
   "source": [
    "mytpl = (1.3,2,5)"
   ]
  },
  {
   "cell_type": "code",
   "execution_count": 14,
   "metadata": {},
   "outputs": [
    {
     "ename": "TypeError",
     "evalue": "int() argument must be a string, a bytes-like object or a real number, not 'tuple'",
     "output_type": "error",
     "traceback": [
      "\u001b[1;31m---------------------------------------------------------------------------\u001b[0m",
      "\u001b[1;31mTypeError\u001b[0m                                 Traceback (most recent call last)",
      "\u001b[1;32mc:\\Users\\andreprovensi\\PycharmProjects\\UI-area-image\\generatetri.ipynb Cell 6\u001b[0m in \u001b[0;36m<cell line: 1>\u001b[1;34m()\u001b[0m\n\u001b[1;32m----> <a href='vscode-notebook-cell:/c%3A/Users/andreprovensi/PycharmProjects/UI-area-image/generatetri.ipynb#W5sZmlsZQ%3D%3D?line=0'>1</a>\u001b[0m \u001b[39mint\u001b[39;49m(mytpl)\n",
      "\u001b[1;31mTypeError\u001b[0m: int() argument must be a string, a bytes-like object or a real number, not 'tuple'"
     ]
    }
   ],
   "source": [
    "int(mytpl)"
   ]
  },
  {
   "cell_type": "code",
   "execution_count": null,
   "metadata": {},
   "outputs": [],
   "source": []
  }
 ],
 "metadata": {
  "kernelspec": {
   "display_name": "Python 3.10.4 ('.venv': pipenv)",
   "language": "python",
   "name": "python3"
  },
  "language_info": {
   "codemirror_mode": {
    "name": "ipython",
    "version": 3
   },
   "file_extension": ".py",
   "mimetype": "text/x-python",
   "name": "python",
   "nbconvert_exporter": "python",
   "pygments_lexer": "ipython3",
   "version": "3.10.4"
  },
  "orig_nbformat": 4,
  "vscode": {
   "interpreter": {
    "hash": "a74fd8dae477d476244f22e170194bc5181b8ef0c678d7d67c83ae0a5a47eae8"
   }
  }
 },
 "nbformat": 4,
 "nbformat_minor": 2
}
