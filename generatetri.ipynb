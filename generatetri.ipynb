{
 "cells": [
  {
   "cell_type": "code",
   "execution_count": 1,
   "metadata": {},
   "outputs": [],
   "source": [
    "from tkinter import *\n",
    "from tkinter import ttk\n",
    "from PIL import ImageTk, Image"
   ]
  },
  {
   "cell_type": "code",
   "execution_count": 2,
   "metadata": {},
   "outputs": [],
   "source": [
    "class Point:\n",
    "\n",
    "    def __init__(self, x=0, y=0):\n",
    "        self.x = x\n",
    "        self.y = y\n",
    "\n",
    "class Rectangle:\n",
    "\n",
    "    def __init__(self, points=[]):\n",
    "        self.points = points\n",
    "        \n",
    "    def get_point(self,ponto=Point()):\n",
    "\n",
    "        if len(self.points) < 4:\n",
    "            self.points.append(ponto)\n",
    "        else:\n",
    "            pass  \n",
    "\n",
    "def get_coordinates_for_rectangle(event):\n",
    "    x, y = event.x, event.y\n",
    "    point = Point(x,y)\n",
    "    newRec.get_point(point)\n",
    "    print(x,y)\n",
    "\n",
    "def create_rectangle(root):\n",
    "    \n",
    "    if len(newRec.points)<3:\n",
    "\n",
    "        root.bind('<Button-1>', get_coordinates_for_rectangle)\n",
    "    \n",
    "    else:\n",
    "\n",
    "        root.unbind('<Button>')\n",
    "\n",
    "def draw_rectangle(event):\n",
    "    \n",
    "    canvas.create_line(newRec.points[0].x, newRec.points[0].y, newRec.points[3].x, newRec.points[3].y)\n",
    "    \n",
    "    for i in range(3):\n",
    "        canvas.create_line(newRec.points[i].x, newRec.points[i].y, newRec.points[i+1].x, newRec.points[i+1].y)"
   ]
  },
  {
   "cell_type": "code",
   "execution_count": 3,
   "metadata": {},
   "outputs": [],
   "source": [
    "root = Tk()\n",
    "\n",
    "canvas = Canvas(root, width=600, height=600)\n",
    "\n",
    "canvas.pack()\n",
    "\n",
    "picture = Image.open(\"images/dresden.jpg\")\n",
    "\n",
    "picture_RGB = picture.convert('RGB')\n",
    "\n",
    "img_tk = ImageTk.PhotoImage(picture)\n",
    "\n",
    "canvas.create_image(5, 5, anchor=NW, image=img_tk)\n",
    "\n",
    "newRec = Rectangle()\n",
    "\n",
    "button = ttk.Button(root,text ='Select Points', command=lambda: root.bind('<Button-1>', get_coordinates_for_rectangle))\n",
    "button2 = ttk.Button(root,text ='Save Points', command=lambda: root.unbind('<Button-1>'))\n",
    "button3 = ttk.Button(root, text='Draw Rectangle')\n",
    "\n",
    "#button.bind('<Button>', create_rectangle)\n",
    "#button.bind('<Return>', lambda: root.unbind('<Button-1>', get_coordinates_for_rectangle), add='+')\n",
    "button3.bind('<Button>', draw_rectangle)\n",
    "\n",
    "button.pack()\n",
    "button2.pack()\n",
    "button3.pack()\n"
   ]
  },
  {
   "cell_type": "code",
   "execution_count": 4,
   "metadata": {},
   "outputs": [
    {
     "name": "stdout",
     "output_type": "stream",
     "text": [
      "152 98\n",
      "468 138\n",
      "438 396\n",
      "199 386\n",
      "35 13\n"
     ]
    }
   ],
   "source": [
    "#root.update()\n",
    "root.mainloop()"
   ]
  },
  {
   "cell_type": "code",
   "execution_count": 5,
   "metadata": {},
   "outputs": [
    {
     "name": "stdout",
     "output_type": "stream",
     "text": [
      "As coordendas do segundo ponto são 468 e 138\n"
     ]
    }
   ],
   "source": [
    "print(f'As coordendas do segundo ponto são {newRec.points[1].x} e {newRec.points[1].y}')"
   ]
  },
  {
   "cell_type": "code",
   "execution_count": null,
   "metadata": {},
   "outputs": [],
   "source": []
  },
  {
   "cell_type": "code",
   "execution_count": null,
   "metadata": {},
   "outputs": [],
   "source": []
  }
 ],
 "metadata": {
  "kernelspec": {
   "display_name": "Python 3.10.4 ('.venv': pipenv)",
   "language": "python",
   "name": "python3"
  },
  "language_info": {
   "codemirror_mode": {
    "name": "ipython",
    "version": 3
   },
   "file_extension": ".py",
   "mimetype": "text/x-python",
   "name": "python",
   "nbconvert_exporter": "python",
   "pygments_lexer": "ipython3",
   "version": "3.10.4"
  },
  "orig_nbformat": 4,
  "vscode": {
   "interpreter": {
    "hash": "a74fd8dae477d476244f22e170194bc5181b8ef0c678d7d67c83ae0a5a47eae8"
   }
  }
 },
 "nbformat": 4,
 "nbformat_minor": 2
}
