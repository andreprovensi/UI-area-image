{
 "cells": [
  {
   "cell_type": "code",
   "execution_count": 8,
   "metadata": {},
   "outputs": [],
   "source": [
    "from tkinter import *\n",
    "from tkinter import ttk\n",
    "from PIL import ImageTk, Image, ImageOps\n"
   ]
  },
  {
   "cell_type": "code",
   "execution_count": 10,
   "metadata": {},
   "outputs": [],
   "source": [
    "root = Tk()\n",
    "\n",
    "canvas = Canvas(root, width=600, height=600)\n",
    "\n",
    "canvas.pack()\n",
    "\n",
    "picture = Image.open(\"images/dresden.jpg\")\n",
    "\n",
    "picture_RGB = picture.convert('RGB')\n",
    "\n",
    "picture_Grey = ImageOps.grayscale(picture)\n",
    "\n"
   ]
  },
  {
   "cell_type": "code",
   "execution_count": 11,
   "metadata": {},
   "outputs": [
    {
     "name": "stdout",
     "output_type": "stream",
     "text": [
      "167 52\n",
      "403 88\n",
      "426 432\n",
      "146 418\n",
      "4 points were already selected\n"
     ]
    }
   ],
   "source": [
    "#picture_Grey"
   ]
  },
  {
   "cell_type": "code",
   "execution_count": 13,
   "metadata": {},
   "outputs": [],
   "source": []
  },
  {
   "cell_type": "code",
   "execution_count": null,
   "metadata": {},
   "outputs": [],
   "source": []
  }
 ],
 "metadata": {
  "kernelspec": {
   "display_name": "Python 3.10.4 ('.venv': pipenv)",
   "language": "python",
   "name": "python3"
  },
  "language_info": {
   "codemirror_mode": {
    "name": "ipython",
    "version": 3
   },
   "file_extension": ".py",
   "mimetype": "text/x-python",
   "name": "python",
   "nbconvert_exporter": "python",
   "pygments_lexer": "ipython3",
   "version": "3.10.4"
  },
  "orig_nbformat": 4,
  "vscode": {
   "interpreter": {
    "hash": "a74fd8dae477d476244f22e170194bc5181b8ef0c678d7d67c83ae0a5a47eae8"
   }
  }
 },
 "nbformat": 4,
 "nbformat_minor": 2
}
