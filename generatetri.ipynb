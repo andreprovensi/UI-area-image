{
 "cells": [
  {
   "cell_type": "code",
   "execution_count": 164,
   "metadata": {},
   "outputs": [
    {
     "name": "stderr",
     "output_type": "stream",
     "text": [
      "C:\\Users\\andreprovensi\\AppData\\Local\\Temp\\ipykernel_17452\\2967357320.py:405: DeprecationWarning: LANCZOS is deprecated and will be removed in Pillow 10 (2023-07-01). Use Resampling.LANCZOS instead.\n",
      "  self.imagem.img = ImageTk.PhotoImage(picture.resize((picture_w_resized, picture_h_resized),resample=Image.LANCZOS))\n"
     ]
    }
   ],
   "source": [
    "from tkinter import *\n",
    "from tkinter import ttk, messagebox\n",
    "from tkinter.filedialog import askopenfilename\n",
    "from PIL import ImageTk, Image\n",
    "from scipy.interpolate import CubicSpline\n",
    "\n",
    "class Point:\n",
    "    def __init__(self, x=0.0, y=0.0):\n",
    "        self.x = x\n",
    "        self.y = y\n",
    "\n",
    "class Polygon:\n",
    "    def __init__(self, points=[]):\n",
    "        self.points = points\n",
    "        self.area_px = None\n",
    "        self.area_m = None\n",
    "        \n",
    "    def get_point(self,ponto=Point()):\n",
    "        self.points.append(ponto)\n",
    "        print(f'{ponto.x}, {ponto.y}')\n",
    "\n",
    "    def reset_points(self):\n",
    "        self.points = []\n",
    "\n",
    "class Imagem:\n",
    "    def __init__(self):\n",
    "        self.file = None\n",
    "        self.img = None\n",
    "        self.src_img = None\n",
    "\n",
    "class Dimension:\n",
    "    def __init__(self, points=[]):\n",
    "        self.points = points\n",
    "        self.length = None\n",
    "        self.px_length = None\n",
    "    \n",
    "    def reset_points(self):\n",
    "        self.points = []\n",
    "\n",
    "    def set_length(self,length):\n",
    "        self.length = length\n",
    "\n",
    "class Area:\n",
    "    def __init__(self):\n",
    "        self.area_px_plan = None\n",
    "        self.area_px_proj = None\n",
    "        self.area_ratio_px_proj_px_plan = None\n",
    "        self.area_m_proj = None\n",
    "        self.area_ratio_m_proj_px_proj = None\n",
    "\n",
    "class FreeDraw:\n",
    "    def __init__(self, points=[]):\n",
    "        self.points = points\n",
    "        self.area_px = None\n",
    "        self.area_m = None\n",
    "\n",
    "    def get_point(self,ponto=Point()):   \n",
    "        self.points.append(ponto)\n",
    "\n",
    "    def reset_points(self):\n",
    "        self.points = []\n",
    "    \n",
    "    def closing_points_free_draw(self):\n",
    "        \n",
    "        if len(self.points)>1:\n",
    "            final_point = self.points[-1]\n",
    "            initial_point = self.points[0]\n",
    "\n",
    "            delta_x = initial_point.x - final_point.x\n",
    "            delta_y = initial_point.y - final_point.y\n",
    "\n",
    "            x_dir = 1 if delta_x > 0 else -1 if delta_x < 0 else 0\n",
    "            \n",
    "            y_dir = 1 if delta_y > 0 else -1 if delta_y < 0 else 0\n",
    "            \n",
    "            points_list = []\n",
    "\n",
    "            for i in range(1,abs(delta_x)+1):\n",
    "                ponto = Point(final_point.x+i*x_dir,final_point.y)\n",
    "                points_list.append(ponto)\n",
    "            for j in range(1,abs(delta_y)):\n",
    "                ponto = Point(initial_point.x,final_point.y+j*y_dir)\n",
    "                points_list.append(ponto)\n",
    "            \n",
    "            for k in points_list:\n",
    "                self.get_point(k)\n",
    "   \n",
    "class App:\n",
    "    def __init__(self):\n",
    "\n",
    "        self.root = Tk()\n",
    "        self.root.geometry(\"1000x500\")\n",
    "\n",
    "        self.imagem = Imagem()\n",
    "\n",
    "        self.freeDraw = FreeDraw()\n",
    "\n",
    "        self.polygon = Polygon()\n",
    "\n",
    "        self.area = Area()\n",
    "\n",
    "        self.dimensionRatio_1 = Dimension()\n",
    "\n",
    "        self.dimensionRatio_2 = Dimension()\n",
    "        \n",
    "\n",
    "        # Cria o menu para carregar as imagens\n",
    "        self.menubar = Menu(self.root)\n",
    "        self.root.config(menu=self.menubar,padx=1,pady=1)\n",
    "        self.file_menu = Menu(self.menubar,tearoff=False)\n",
    "        self.menubar.add_cascade(label=\"File\", menu=self.file_menu)\n",
    "        self.file_menu.add_command(label=\"Open\", command=lambda: self.open_image())\n",
    "        self.file_menu.add_command(label=\"Exit\", command=lambda: self.root.quit())\n",
    "\n",
    "        # FRAMES\n",
    "\n",
    "        # Cria o frame geral\n",
    "        self.frame = Frame(self.root)\n",
    "\n",
    "        # Frame para Botões dos tipos de desenho\n",
    "\n",
    "        self.frame_buttons = Frame(self.root,relief=RAISED,borderwidth=3)\n",
    "        self.frame_buttons.pack(side=RIGHT,fill=Y,expand=False)\n",
    "\n",
    "        # self.frame.pack(side=RIGHT,fill=BOTH)\n",
    "\n",
    "        # Frame e componentes para a definição do tamanho da imagem e da razão mm/pixel\n",
    "\n",
    "        self.frame_img_prop = Frame(self.root,relief=GROOVE,borderwidth=2,width=135)\n",
    "        self.frame_img_prop.pack(side=LEFT,fill=Y,expand=False)\n",
    "\n",
    "        self.frame_zoom = Frame(self.frame_img_prop,relief=RIDGE,borderwidth=1)\n",
    "\n",
    "        # FRAME INPUT\n",
    "        self.frame_input = Frame(self.frame_img_prop,relief=RIDGE,borderwidth=1)\n",
    "\n",
    "        #FRAME INPUT LABLE\n",
    "        self.frame_input_lable = Frame(self.frame_input)\n",
    "\n",
    "        #FRAME INPUT, LENGTH 1 LED\n",
    "        self.frame_input_led_1 = Frame(self.frame_input)\n",
    "\n",
    "        #FRAME INPUT, LENGTH 2 LED\n",
    "        self.frame_input_led_2 = Frame(self.frame_input)\n",
    "\n",
    "        # FRAME INPUT BUTTON\n",
    "        self.frame_input_button = Frame(self.frame_input)\n",
    "\n",
    "        # # SLIDERS\n",
    "        # self.slider_lable = ttk.Label(self.frame_zoom,text='Zoom',wraplength=90)\n",
    "        # self.slider = ttk.Scale(self.frame_zoom,from_=1, to=100, orient='horizontal', command = lambda event: self.render_image(),length=125)\n",
    "        # self.slider.set(30)\n",
    "\n",
    "        ### INPUTS, LABEL and LEDS\n",
    "        self.dimension_input_lable = ttk.Label(self.frame_input_lable,text='Comprimentos conhecidos em mm',wraplength=150)\n",
    "\n",
    "        # LENGTH 1\n",
    "        self.green_led_figure_1 = ImageTk.PhotoImage(Image.open('images/small_green_led.jpg'))\n",
    "        self.red_led_figure_1 = ImageTk.PhotoImage(Image.open('images/small_red_led.jpg'))\n",
    "        self.led_1 = ttk.Label(self.frame_input_led_1, image=self.red_led_figure_1 )\n",
    "        self.C1_button = ttk.Button(self.frame_input_led_1, text='C1', width=4, command= lambda: self.C1_button_pressed())\n",
    "        \n",
    "        # LENGTH 2\n",
    "        self.green_led_figure_2 = ImageTk.PhotoImage(Image.open('images/small_green_led.jpg'))\n",
    "        self.red_led_figure_2 = ImageTk.PhotoImage(Image.open('images/small_red_led.jpg'))\n",
    "        self.led_2 = ttk.Label(self.frame_input_led_2, image=self.red_led_figure_2)\n",
    "        self.C2_button = ttk.Button(self.frame_input_led_2, text='C2', width=4, command= lambda: self.C2_button_pressed())\n",
    "        \n",
    "        # SLIDERS\n",
    "        self.slider_lable = ttk.Label(self.frame_zoom,text='Zoom',wraplength=90)\n",
    "        self.slider = ttk.Scale(self.frame_zoom,from_=1, to=200, orient='horizontal', command = lambda event: [self.render_image(), self.led_1.config(image=self.red_led_figure_1),self.led_2.config(image=self.red_led_figure_2)],length=125)\n",
    "        self.slider.set(30)\n",
    "        \n",
    "        self.input_value_1 = StringVar(self.root)\n",
    "        self.dimension_input_1 = Entry(self.frame_input_led_1,textvariable=self.input_value_1, bd=3,width=15)\n",
    "        \n",
    "        self.input_value_2 = StringVar(self.root)\n",
    "        self.dimension_input_2 = Entry(self.frame_input_led_2,textvariable=self.input_value_2, bd=3,width=15)\n",
    "        \n",
    "\n",
    "        self.button_set_dimension = ttk.Button(\n",
    "            self.frame_input_button,text='Selecionar pontos do\\ncomprimento',\n",
    "            command= lambda: self.C1_button_pressed()\n",
    "        )\n",
    "        \n",
    "        # Action box\n",
    "        self.action_box = Message(self.frame_img_prop,text='- Carregue uma imagem\\n\\n- Ajuste o zoom\\n\\n- Digite os valores dos comprimentos conhecidos\\n\\n- Aperte C1 para definir os pontos do comprimento 1\\n\\n- Aperte C2 para definir os pontos do comprimento 2\\n\\n- Quando os dois leds ficarem verdes, aperte em desenho livre',bg='light yellow', anchor='nw',justify=LEFT, width=150)\n",
    "        \n",
    "    \n",
    "        #Positioning\n",
    "        self.frame_zoom.pack(side=TOP,fill=BOTH)\n",
    "        self.frame_input.pack(side=TOP,fill=BOTH)\n",
    "        self.action_box.pack(side=TOP, fill=BOTH,expand=True)\n",
    "        self.frame_input_lable.pack(side=TOP)\n",
    "        self.frame_input_led_1.pack(side = TOP)\n",
    "        self.frame_input_led_2.pack(side=TOP,pady=5)\n",
    "        self.frame_input_button.pack(side=TOP)\n",
    "\n",
    "        self.slider_lable.pack(side=LEFT,anchor='w',pady=15)\n",
    "        self.slider.pack(side=LEFT,anchor='n',padx=1,pady=15)\n",
    "\n",
    "        self.C1_button.pack(side=LEFT,padx=2)\n",
    "        self.C2_button.pack(side=LEFT,padx=2)\n",
    "\n",
    "        self.dimension_input_lable.pack(side=TOP,pady=10)\n",
    "        self.dimension_input_1.pack(side=LEFT)\n",
    "        self.dimension_input_2.pack(side=LEFT)\n",
    "\n",
    "        self.led_1.pack(side=RIGHT,anchor='ne')\n",
    "        self.led_2.pack(side=RIGHT,anchor='ne')\n",
    "    \n",
    "        # Canvas\n",
    "        self.canvas = Canvas(self.frame)\n",
    "\n",
    "        \n",
    "        self.button_free_draw = ttk.Button(self.frame_buttons, text ='Desenho Livre', command = self.check_free_draw)\n",
    "\n",
    "        self.button_polygon = ttk.Button(self.frame_buttons, text ='Polígono', command = self.check_polygon)\n",
    "\n",
    "        # BOTÕES de tipo de desenho\n",
    "        self.button_free_draw.pack(side=TOP,pady=25,padx=5)\n",
    "        self.button_polygon.pack(side=TOP,pady=25)\n",
    "\n",
    "        #FRAME CENTRAL\n",
    "        self.frame = Frame(self.root,relief=RIDGE,border=1)\n",
    "\n",
    "        self.frame.pack(side=TOP,anchor='n',fill=BOTH, expand=True)\n",
    "\n",
    "        self.vbar = Scrollbar(self.frame, orient='vertical')\n",
    "        self.hbar = Scrollbar(self.frame, orient='horizontal')\n",
    "\n",
    "        # self.hbar.config(command=self.canvas.xview)\n",
    "\n",
    "        # self.vbar.config(command=self.canvas.yview)\n",
    "\n",
    "        # self.canvas.config(xscrollcommand=self.hbar.set, yscrollcommand=self.vbar.set)\n",
    "\n",
    "        self.vbar.pack(side=LEFT,fill=Y)\n",
    "        self.hbar.pack(side=BOTTOM,fill=X)\n",
    "\n",
    "        \n",
    "    def check_polygon(self):\n",
    "        self.root.focus()\n",
    "        if self.area.area_ratio_m_proj_px_proj:\n",
    "            self.render_image()\n",
    "            self.action_box.config(text='-Clique para selecionar os pontos que delimitam a lesão.\\n\\n- Aperte espaço para finalizar o polígono.',justify=LEFT)\n",
    "            self.polygon.reset_points()\n",
    "            self.canvas.bind('<Button-1>',self.create_polygon)\n",
    "            self.root.bind('<space>',lambda event: self.close_polygon())\n",
    "        else:\n",
    "            self.canvas.unbind('<Button-1>')\n",
    "            messagebox.showerror('','Você precisa definir o comprimento conhecido')\n",
    "    \n",
    "    def create_polygon(self,event):\n",
    "        ponto = Point(self.canvas.canvasx(event.x), self.canvas.canvasy(event.y))\n",
    "        self.polygon.get_point(ponto)\n",
    "        self.canvas.create_oval((ponto.x,ponto.y,ponto.x,ponto.y),fill='black',width=2)\n",
    "        if len(self.polygon.points)>1:\n",
    "            self.canvas.create_line(self.polygon.points[-2].x, self.polygon.points[-2].y, self.polygon.points[-1].x, self.polygon.points[-1].y)\n",
    "\n",
    "    def close_polygon(self):\n",
    "        if len(self.polygon.points)>=3:\n",
    "            self.unbind_all()\n",
    "            points_list = [(point.x,point.y) for point in self.polygon.points]\n",
    "            points_list.append((self.polygon.points[0].x, self.polygon.points[0].y))\n",
    "            self.canvas.create_line(points_list)\n",
    "            self.calcula_area_polygon()\n",
    "        else:\n",
    "            self.unbind_all()\n",
    "            self.polygon.reset_points()\n",
    "            self.render_image()\n",
    "\n",
    "\n",
    "    def check_free_draw(self):\n",
    "        self.root.focus()\n",
    "        if self.area.area_ratio_m_proj_px_proj:\n",
    "            self.render_image()\n",
    "            self.action_box.config(text='Clique duas vezes para começar o desenho e, chegando perto do final do desenho, clique novamente duas vezes')\n",
    "            self.freeDraw.reset_points()\n",
    "            self.canvas.bind('<Double-Button>', lambda event: [self.root.bind('<Motion>',self.free_draw), self.root.bind('<Double-Button>', lambda event: [self.root.unbind('<Motion>'),self.freeDraw.closing_points_free_draw(),self.close_free_draw(),self.calcula_area_freeDraw()]) ])\n",
    "        else:\n",
    "            self.canvas.unbind('<Motion>')\n",
    "            messagebox.showerror('','Você precisa definir o comprimento conhecido')\n",
    "    \n",
    "    def free_draw(self,event):\n",
    "        if self.area.area_ratio_m_proj_px_proj:\n",
    "            # self.root.bind('<Double-Button>', lambda event: [self.root.unbind('<Motion>'),self.freeDraw.closing_points_free_draw(),self.close_free_draw(),self.calcula_area_geom()]) \n",
    "            x, y = event.x, event.y\n",
    "            ponto = Point(x,y)\n",
    "            print(x,y)\n",
    "            self.freeDraw.get_point(ponto)\n",
    "            if len(self.freeDraw.points)>1:\n",
    "                self.canvas.create_line(self.freeDraw.points[-2].x, self.freeDraw.points[-2].y, self.freeDraw.points[-1].x, self.freeDraw.points[-1].y)\n",
    "        else:\n",
    "            self.canvas.unbind('<Motion>')\n",
    "            messagebox.showerror('','Você precisa definir os comprimentos conhecidos')\n",
    "\n",
    "    def close_free_draw(self):\n",
    "        self.unbind_all()\n",
    "        points_list = [(point.x,point.y) for point in self.freeDraw.points]\n",
    "        points_list.append((self.freeDraw.points[0].x,self.freeDraw.points[0].y))\n",
    "        self.canvas.create_line(points_list)\n",
    "    \n",
    "    def set_proj_plan_ratio(self):\n",
    "        P1 = self.dimensionRatio_1.points[0]\n",
    "        P2 = self.dimensionRatio_1.points[1]\n",
    "        P3 = self.dimensionRatio_2.points[0]\n",
    "        P4 = self.dimensionRatio_2.points[1]\n",
    " \n",
    "        # Definir os pontos com máximo delta_x e delta_y entre P0 e os outros pontos \n",
    "                \n",
    "        vetor_1 = Point(P2.x - P1.x, P2.y - P1.y)\n",
    "\n",
    "        vetor_2 = Point(P4.x - P3.x, P4.y - P3.y)\n",
    "\n",
    "        self.area.area_px_plan = ((vetor_1.x*vetor_2.y) ** 2 + (vetor_2.x*vetor_1.y) ** 2) ** 0.5\n",
    "\n",
    "        self.area.area_px_proj = (vetor_1.x**2 + vetor_1.y**2)**0.5 * (vetor_2.x**2 + vetor_2.y**2)**0.5\n",
    "\n",
    "        self.area.area_ratio_px_proj_px_plan = self.area.area_px_proj / self.area.area_px_plan\n",
    "\n",
    "        length_1 = self.dimensionRatio_1.length \n",
    "\n",
    "        length_2 = self.dimensionRatio_2.length \n",
    "\n",
    "        # print(f'O comprimento 1 é de {length_1} e o comprimento 2 de {length_2}')\n",
    "\n",
    "        self.area.area_m_proj = length_1 * length_2 \n",
    "\n",
    "        self.area.area_ratio_m_proj_px_proj = length_1 * length_2 / self.area.area_px_proj\n",
    "\n",
    "    def C1_button_pressed(self):\n",
    "        if self.input_value_1.get():\n",
    "            self.render_image() #Caso já tenha algo desenhado, uma nova imagem é renderizada ao apertar o botão\n",
    "            self.action_box.config(text='- Selecione os pontos do comprimento conhecido')\n",
    "            self.dimensionRatio_1.reset_points()\n",
    "            self.dimensionRatio_1.set_length(float(self.input_value_1.get()))\n",
    "            self.canvas.bind('<Button-1>', self.get_C1_points)\n",
    "            \n",
    "        else:\n",
    "            messagebox.showerror('','Você precisa digitar o comprimento conhecido')\n",
    "            \n",
    "        \n",
    "    def get_C1_points(self, event):   \n",
    "        ponto=Point(self.canvas.canvasx(event.x),self.canvas.canvasy(event.y))\n",
    "        \n",
    "        if len(self.dimensionRatio_1.points)<=1:\n",
    "            self.dimensionRatio_1.points.append(ponto)\n",
    "            self.canvas.create_oval((ponto.x,ponto.y,ponto.x,ponto.y),fill='black',width=5)\n",
    "        \n",
    "        if len(self.dimensionRatio_1.points) == 2:\n",
    "            self.led_1.config(image=self.green_led_figure_1)\n",
    "            self.canvas.unbind('<Button-1>')\n",
    "            self.root.focus()\n",
    "\n",
    "        if len(self.dimensionRatio_1.points) == 2 and len(self.dimensionRatio_2.points) == 2:\n",
    "            self.set_proj_plan_ratio()\n",
    "            self.unbind_all()\n",
    "\n",
    "    def C2_button_pressed(self):\n",
    "        if self.input_value_2.get():\n",
    "            # self.render_image() #Caso já tenha algo desenhado, uma nova imagem é renderizada ao apertar o botão\n",
    "            self.action_box.config(text='- Selecione os pontos do comprimento conhecido')\n",
    "            self.dimensionRatio_2.reset_points()\n",
    "            self.dimensionRatio_2.set_length(float(self.input_value_2.get()))\n",
    "            self.canvas.bind('<Button-1>',self.get_C2_points)\n",
    "            \n",
    "        else:\n",
    "            messagebox.showerror('','Você precisa digitar o comprimento conhecido')\n",
    "            \n",
    "        \n",
    "    def get_C2_points(self, event):   \n",
    "        ponto=Point(self.canvas.canvasx(event.x),self.canvas.canvasy(event.y))\n",
    "        \n",
    "        if len(self.dimensionRatio_2.points)<=1:\n",
    "            self.dimensionRatio_2.points.append(ponto)\n",
    "            self.canvas.create_oval((ponto.x,ponto.y,ponto.x,ponto.y),fill='black',width=5)\n",
    "        \n",
    "        if len(self.dimensionRatio_2.points) == 2:\n",
    "            self.led_2.config(image=self.green_led_figure_2)\n",
    "            self.canvas.unbind('<Button-1>')\n",
    "            self.root.focus()\n",
    "\n",
    "        if len(self.dimensionRatio_1.points) == 2 and len(self.dimensionRatio_2.points) == 2:\n",
    "            self.set_proj_plan_ratio()\n",
    "            self.unbind_all()\n",
    "\n",
    "\n",
    "    def open_image(self):\n",
    "        self.imagem.file = askopenfilename(filetypes=[(\"all files\",\"*\"),(\"Bitmap Files\",\"*.bmp; *.dib\"), (\"JPEG\", \"*.jpg; *.jpe; *.jpeg; *.jfif\"),(\"PNG\", \"*.png\"), (\"TIFF\", \"*.tiff; *.tif\")])\n",
    "        \n",
    "        self.imagem.src_img = Image.open(self.imagem.file)\n",
    "\n",
    "        self.render_image()\n",
    "\n",
    "    def render_image(self):\n",
    "        if self.imagem.src_img:\n",
    "\n",
    "            picture=self.imagem.src_img\n",
    "\n",
    "            picture_w, picture_h = picture.size\n",
    "\n",
    "            picture_w_resized, picture_h_resized = int(picture_w * self.slider.get()/100), int(picture_h * self.slider.get()/100) \n",
    "\n",
    "            self.imagem.img = ImageTk.PhotoImage(picture.resize((picture_w_resized, picture_h_resized),resample=Image.LANCZOS))\n",
    "\n",
    "            # self.frame.destroy()\n",
    "            \n",
    "            # self.frame = Frame(self.root,width=picture_w_resized,height=picture_h_resized)\n",
    "\n",
    "            # self.frame.pack(side=TOP,anchor='n', padx = 50,fill=BOTH, expand=True)    \n",
    "          \n",
    "            self.canvas.destroy()\n",
    "                   \n",
    "            self.canvas = Canvas(self.frame, width=picture_w_resized, height=picture_h_resized,scrollregion=(0,0,picture_w_resized,picture_h_resized))\n",
    "\n",
    "            # self.canvas.config(width=picture_w_resized, height=picture_h_resized,scrollregion=(0,0,picture_w_resized,picture_h_resized))\n",
    "\n",
    "            self.canvas.create_image(0, 0, anchor=NW, image=self.imagem.img)\n",
    "\n",
    "            self.hbar.config(command=self.canvas.xview)\n",
    "\n",
    "            self.vbar.config(command=self.canvas.yview)\n",
    "\n",
    "            self.canvas.config(xscrollcommand=self.hbar.set, yscrollcommand=self.vbar.set)\n",
    "\n",
    "            self.canvas.pack(side=TOP, anchor='n')\n",
    "\n",
    "        else:\n",
    "            pass\n",
    "            \n",
    "        \n",
    "\n",
    "    def calcula_area_freeDraw(self):\n",
    "        if len(self.freeDraw.points)>2 and self.area.area_ratio_m_proj_px_proj:\n",
    "\n",
    "            areas_px=[]\n",
    "\n",
    "            for i,_ in enumerate(self.freeDraw.points):\n",
    "                delta_x_px = self.freeDraw.points[i].x - self.freeDraw.points[i-1].x\n",
    "                delta_y_px = self.freeDraw.points[i].y - self.freeDraw.points[i-1].y\n",
    "                y_1_px = min(self.freeDraw.points[i].y ,self.freeDraw.points[i-1].y)\n",
    "                area = delta_x_px * (y_1_px + abs(delta_y_px)/2)\n",
    "\n",
    "                areas_px.append(area)\n",
    "            \n",
    "            self.freeDraw.area_px = abs(sum(areas_px))\n",
    "            \n",
    "            area_meters = self.freeDraw.area_px * self.area.area_ratio_px_proj_px_plan * self.area.area_ratio_m_proj_px_proj\n",
    "            self.freeDraw.area_m = area_meters\n",
    "            \n",
    "            self.action_box.config(text=f'A área da figura é {area_meters:.2f} mm²')\n",
    "            # print(f'Calcula area geom foi chamado, o ponto inicial é {self.freeDraw.points[0].x},{self.freeDraw.points[0].y} e o ponto Final é {self.freeDraw.points[-1].x},{self.freeDraw.points[-1].y} ')\n",
    "    \n",
    "    def calcula_area_polygon(self):\n",
    "        if len(self.polygon.points)>2 and self.area.area_ratio_m_proj_px_proj:\n",
    "\n",
    "            areas_px=[]\n",
    "\n",
    "            for i,_ in enumerate(self.polygon.points):\n",
    "                delta_x_px = self.polygon.points[i].x - self.polygon.points[i-1].x\n",
    "                delta_y_px = self.polygon.points[i].y - self.polygon.points[i-1].y\n",
    "                y_1_px = min(self.polygon.points[i].y ,self.polygon.points[i-1].y)\n",
    "                area = delta_x_px * (y_1_px + abs(delta_y_px)/2)\n",
    "                areas_px.append(area)\n",
    "            \n",
    "            self.polygon.area_px = abs(sum(areas_px))\n",
    "            \n",
    "            area_meters = self.polygon.area_px * self.area.area_ratio_px_proj_px_plan * self.area.area_ratio_m_proj_px_proj\n",
    "            self.polygon.area_m = area_meters\n",
    "            \n",
    "            self.action_box.config(text=f'A área da figura é {area_meters:.2f} mm²')\n",
    "            # print(f'Calcula area geom foi chamado, o ponto inicial é {self.freeDraw.points[0].x},{self.freeDraw.points[0].y} e o ponto Final é {self.freeDraw.points[-1].x},{self.freeDraw.points[-1].y} ')\n",
    "    \n",
    "    def spline_first(self):\n",
    "        x_t = [ponto.x for ponto in self.polygon.points]\n",
    "        y_t = [ponto.y for ponto in self.polygon.points]\n",
    "\n",
    "        cubic_spline = CubicSpline(x_t,y_t)\n",
    "        pass\n",
    "\n",
    "    def unbind_all(self):\n",
    "        self.canvas.unbind('<Button-1>')\n",
    "        self.canvas.unbind('<Double-Button>')\n",
    "        self.canvas.unbind('<Motion>')\n",
    "        self.root.unbind('<space>')\n",
    "        # self.root.unbind('<KeyPress>')\n",
    "myApp = App()\n",
    "\n",
    "myApp.root.mainloop()\n",
    "\n",
    "# print('Raza pixel proj pixel plan',myApp.area.area_ratio_px_proj_px_plan)\n",
    "\n",
    "# print('\\n Razao m proj pixel proj', myApp.area.area_ratio_m_proj_px_proj)"
   ]
  },
  {
   "cell_type": "code",
   "execution_count": 165,
   "metadata": {},
   "outputs": [
    {
     "name": "stdout",
     "output_type": "stream",
     "text": [
      "Raza pixel proj pixel plan None\n",
      "\n",
      " Razao m proj pixel proj None\n"
     ]
    }
   ],
   "source": [
    "\n",
    "print('Raza pixel proj pixel plan',myApp.area.area_ratio_px_proj_px_plan)\n",
    "\n",
    "print('\\n Razao m proj pixel proj', myApp.area.area_ratio_m_proj_px_proj)"
   ]
  },
  {
   "cell_type": "code",
   "execution_count": 166,
   "metadata": {},
   "outputs": [],
   "source": [
    "import numpy as np\n",
    "import matplotlib.pyplot as plt"
   ]
  },
  {
   "cell_type": "code",
   "execution_count": 167,
   "metadata": {},
   "outputs": [],
   "source": [
    "x = [ponto.x for ponto in myApp.polygon.points]\n",
    "y = [ponto.y for ponto in myApp.polygon.points]\n"
   ]
  },
  {
   "cell_type": "code",
   "execution_count": 168,
   "metadata": {},
   "outputs": [
    {
     "data": {
      "text/plain": [
       "[<matplotlib.lines.Line2D at 0x25a85b0c8b0>]"
      ]
     },
     "execution_count": 168,
     "metadata": {},
     "output_type": "execute_result"
    },
    {
     "data": {
      "image/png": "[encoded data removed]",
      "text/plain": [
       "<Figure size 640x480 with 1 Axes>"
      ]
     },
     "metadata": {},
     "output_type": "display_data"
    }
   ],
   "source": [
    "plt.plot(x,'o')"
   ]
  },
  {
   "cell_type": "code",
   "execution_count": 169,
   "metadata": {},
   "outputs": [
    {
     "data": {
      "text/plain": [
       "[<matplotlib.lines.Line2D at 0x25a85b27e20>]"
      ]
     },
     "execution_count": 169,
     "metadata": {},
     "output_type": "execute_result"
    },
    {
     "data": {
      "image/png": "[encoded data removed]",
      "text/plain": [
       "<Figure size 640x480 with 1 Axes>"
      ]
     },
     "metadata": {},
     "output_type": "display_data"
    }
   ],
   "source": [
    "plt.plot(y,'o')"
   ]
  },
  {
   "cell_type": "code",
   "execution_count": 170,
   "metadata": {},
   "outputs": [],
   "source": [
    "x_t = [ponto.x for ponto in myApp.polygon.points]\n",
    "y_t = [ponto.y for ponto in myApp.polygon.points]"
   ]
  },
  {
   "cell_type": "code",
   "execution_count": 171,
   "metadata": {},
   "outputs": [
    {
     "ename": "ValueError",
     "evalue": "`x` must contain at least 2 elements.",
     "output_type": "error",
     "traceback": [
      "\u001b[1;31m---------------------------------------------------------------------------\u001b[0m",
      "\u001b[1;31mValueError\u001b[0m                                Traceback (most recent call last)",
      "Cell \u001b[1;32mIn [171], line 1\u001b[0m\n\u001b[1;32m----> 1\u001b[0m x_t_spline \u001b[38;5;241m=\u001b[39m \u001b[43mCubicSpline\u001b[49m\u001b[43m(\u001b[49m\u001b[38;5;28;43mlist\u001b[39;49m\u001b[43m(\u001b[49m\u001b[38;5;28;43mrange\u001b[39;49m\u001b[43m(\u001b[49m\u001b[38;5;241;43m0\u001b[39;49m\u001b[43m,\u001b[49m\u001b[38;5;28;43mlen\u001b[39;49m\u001b[43m(\u001b[49m\u001b[43mx_t\u001b[49m\u001b[43m)\u001b[49m\u001b[43m)\u001b[49m\u001b[43m)\u001b[49m\u001b[43m,\u001b[49m\u001b[43mx_t\u001b[49m\u001b[43m)\u001b[49m\n\u001b[0;32m      2\u001b[0m y_t_spline \u001b[38;5;241m=\u001b[39m CubicSpline(\u001b[38;5;28mlist\u001b[39m(\u001b[38;5;28mrange\u001b[39m(\u001b[38;5;241m0\u001b[39m,\u001b[38;5;28mlen\u001b[39m(y_t))),y_t)\n",
      "File \u001b[1;32mc:\\Users\\andreprovensi\\PycharmProjects\\UI-area-image\\.venv\\lib\\site-packages\\scipy\\interpolate\\_cubic.py:629\u001b[0m, in \u001b[0;36mCubicSpline.__init__\u001b[1;34m(self, x, y, axis, bc_type, extrapolate)\u001b[0m\n\u001b[0;32m    628\u001b[0m \u001b[39mdef\u001b[39;00m \u001b[39m__init__\u001b[39m(\u001b[39mself\u001b[39m, x, y, axis\u001b[39m=\u001b[39m\u001b[39m0\u001b[39m, bc_type\u001b[39m=\u001b[39m\u001b[39m'\u001b[39m\u001b[39mnot-a-knot\u001b[39m\u001b[39m'\u001b[39m, extrapolate\u001b[39m=\u001b[39m\u001b[39mNone\u001b[39;00m):\n\u001b[1;32m--> 629\u001b[0m     x, dx, y, axis, _ \u001b[39m=\u001b[39m prepare_input(x, y, axis)\n\u001b[0;32m    630\u001b[0m     n \u001b[39m=\u001b[39m \u001b[39mlen\u001b[39m(x)\n\u001b[0;32m    632\u001b[0m     bc, y \u001b[39m=\u001b[39m \u001b[39mself\u001b[39m\u001b[39m.\u001b[39m_validate_bc(bc_type, y, y\u001b[39m.\u001b[39mshape[\u001b[39m1\u001b[39m:], axis)\n",
      "File \u001b[1;32mc:\\Users\\andreprovensi\\PycharmProjects\\UI-area-image\\.venv\\lib\\site-packages\\scipy\\interpolate\\_cubic.py:46\u001b[0m, in \u001b[0;36mprepare_input\u001b[1;34m(x, y, axis, dydx)\u001b[0m\n\u001b[0;32m     44\u001b[0m     \u001b[39mraise\u001b[39;00m \u001b[39mValueError\u001b[39;00m(\u001b[39m\"\u001b[39m\u001b[39m`x` must be 1-dimensional.\u001b[39m\u001b[39m\"\u001b[39m)\n\u001b[0;32m     45\u001b[0m \u001b[39mif\u001b[39;00m x\u001b[39m.\u001b[39mshape[\u001b[39m0\u001b[39m] \u001b[39m<\u001b[39m \u001b[39m2\u001b[39m:\n\u001b[1;32m---> 46\u001b[0m     \u001b[39mraise\u001b[39;00m \u001b[39mValueError\u001b[39;00m(\u001b[39m\"\u001b[39m\u001b[39m`x` must contain at least 2 elements.\u001b[39m\u001b[39m\"\u001b[39m)\n\u001b[0;32m     47\u001b[0m \u001b[39mif\u001b[39;00m x\u001b[39m.\u001b[39mshape[\u001b[39m0\u001b[39m] \u001b[39m!=\u001b[39m y\u001b[39m.\u001b[39mshape[axis]:\n\u001b[0;32m     48\u001b[0m     \u001b[39mraise\u001b[39;00m \u001b[39mValueError\u001b[39;00m(\u001b[39m\"\u001b[39m\u001b[39mThe length of `y` along `axis`=\u001b[39m\u001b[39m{0}\u001b[39;00m\u001b[39m doesn\u001b[39m\u001b[39m'\u001b[39m\u001b[39mt \u001b[39m\u001b[39m\"\u001b[39m\n\u001b[0;32m     49\u001b[0m                      \u001b[39m\"\u001b[39m\u001b[39mmatch the length of `x`\u001b[39m\u001b[39m\"\u001b[39m\u001b[39m.\u001b[39mformat(axis))\n",
      "\u001b[1;31mValueError\u001b[0m: `x` must contain at least 2 elements."
     ]
    }
   ],
   "source": [
    "x_t_spline = CubicSpline(list(range(0,len(x_t))),x_t)\n",
    "y_t_spline = CubicSpline(list(range(0,len(y_t))),y_t)"
   ]
  },
  {
   "cell_type": "code",
   "execution_count": null,
   "metadata": {},
   "outputs": [],
   "source": [
    "t_test = np.linspace(0,len(x_t),50)\n",
    "x_t_test = x_t_spline(t_test)"
   ]
  },
  {
   "cell_type": "code",
   "execution_count": null,
   "metadata": {},
   "outputs": [
    {
     "data": {
      "text/plain": [
       "[<matplotlib.lines.Line2D at 0x25a8501aa40>]"
      ]
     },
     "execution_count": 44,
     "metadata": {},
     "output_type": "execute_result"
    },
    {
     "data": {
      "image/png": "[encoded data removed]",
      "text/plain": [
       "<Figure size 640x480 with 1 Axes>"
      ]
     },
     "metadata": {},
     "output_type": "display_data"
    }
   ],
   "source": [
    "plt.plot(t_test,x_t_test,'ro',)\n",
    "plt.plot(x_t,'bo')"
   ]
  },
  {
   "cell_type": "code",
   "execution_count": null,
   "metadata": {},
   "outputs": [],
   "source": [
    "int_x = x_t_spline.integrate(0,len(x_t))\n",
    "int_y = y_t_spline.integrate(0,len(y_t))\n",
    "\n",
    "der_x = x_t_spline.derivative()\n",
    "der_y = y_t_spline.derivative()\n"
   ]
  },
  {
   "cell_type": "code",
   "execution_count": null,
   "metadata": {},
   "outputs": [
    {
     "name": "stdout",
     "output_type": "stream",
     "text": [
      "26204624.5\n"
     ]
    }
   ],
   "source": [
    "area = int_x*int_y \n",
    "print(f'{area:.1f}')"
   ]
  },
  {
   "cell_type": "code",
   "execution_count": null,
   "metadata": {},
   "outputs": [
    {
     "name": "stdout",
     "output_type": "stream",
     "text": [
      "A área da figura é 328.00590 mm²\n"
     ]
    }
   ],
   "source": [
    "\n",
    "\n",
    "delta_t = np.linspace(0,len(x_t)-1,200)\n",
    "points_list = []\n",
    "for t in delta_t:\n",
    "    x = x_t_spline(t)\n",
    "    y = y_t_spline(t)\n",
    "\n",
    "    ponto = Point(x,y)\n",
    "    points_list.append(ponto)\n",
    "\n",
    "areas_px=[]\n",
    "\n",
    "for i,_ in enumerate(points_list):\n",
    "    delta_x_px = points_list[i].x - points_list[i-1].x\n",
    "    delta_y_px = points_list[i].y - points_list[i-1].y\n",
    "    y_1_px = min(points_list[i].y ,points_list[i-1].y)\n",
    "    area = delta_x_px * (y_1_px + abs(delta_y_px)/2)\n",
    "    areas_px.append(area)\n",
    "\n",
    "area_px = abs(sum(areas_px))\n",
    "\n",
    "area_meters = myApp.polygon.area_px * myApp.area.area_ratio_px_proj_px_plan * myApp.area.area_ratio_m_proj_px_proj\n",
    "\n",
    "\n",
    "print(f'A área da figura é {area_meters:.5f} mm²')\n",
    "# print(f'Calcula area geom foi chamado, o ponto inicial é {self.freeDraw.points[0].x},{self.freeDraw.points[0].y} e o ponto Final é {self.freeDraw.points[-1].x},{self.freeDraw.points[-1].y} ')\n",
    "\n",
    "\n"
   ]
  },
  {
   "cell_type": "code",
   "execution_count": null,
   "metadata": {},
   "outputs": [
    {
     "data": {
      "text/plain": [
       "25028.759702457057"
      ]
     },
     "execution_count": 48,
     "metadata": {},
     "output_type": "execute_result"
    }
   ],
   "source": [
    "area_px"
   ]
  },
  {
   "cell_type": "code",
   "execution_count": null,
   "metadata": {},
   "outputs": [
    {
     "data": {
      "text/plain": [
       "33506.0"
      ]
     },
     "execution_count": 49,
     "metadata": {},
     "output_type": "execute_result"
    }
   ],
   "source": [
    "myApp.polygon.area_px"
   ]
  },
  {
   "cell_type": "code",
   "execution_count": null,
   "metadata": {},
   "outputs": [],
   "source": [
    "# resized_image_RGB.getpixel((20,20))"
   ]
  },
  {
   "cell_type": "code",
   "execution_count": null,
   "metadata": {},
   "outputs": [],
   "source": [
    "# picture_RGB.getpixel((20,20))"
   ]
  },
  {
   "cell_type": "code",
   "execution_count": null,
   "metadata": {},
   "outputs": [],
   "source": []
  }
 ],
 "metadata": {
  "kernelspec": {
   "display_name": "Python 3.10.4 ('.venv': pipenv)",
   "language": "python",
   "name": "python3"
  },
  "language_info": {
   "codemirror_mode": {
    "name": "ipython",
    "version": 3
   },
   "file_extension": ".py",
   "mimetype": "text/x-python",
   "name": "python",
   "nbconvert_exporter": "python",
   "pygments_lexer": "ipython3",
   "version": "3.10.4"
  },
  "orig_nbformat": 4,
  "vscode": {
   "interpreter": {
    "hash": "a74fd8dae477d476244f22e170194bc5181b8ef0c678d7d67c83ae0a5a47eae8"
   }
  }
 },
 "nbformat": 4,
 "nbformat_minor": 2
}
